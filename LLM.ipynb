{
 "cells": [
  {
   "cell_type": "code",
   "execution_count": 16,
   "id": "4e79c27b",
   "metadata": {},
   "outputs": [
    {
     "name": "stdout",
     "output_type": "stream",
     "text": [
      "Collecting openai-agents\n",
      "  Downloading openai_agents-0.2.3-py3-none-any.whl.metadata (11 kB)\n",
      "Collecting griffe<2,>=1.5.6 (from openai-agents)\n",
      "  Downloading griffe-1.9.0-py3-none-any.whl.metadata (5.0 kB)\n",
      "Collecting mcp<2,>=1.11.0 (from openai-agents)\n",
      "  Downloading mcp-1.12.2-py3-none-any.whl.metadata (60 kB)\n",
      "     ---------------------------------------- 0.0/61.0 kB ? eta -:--:--\n",
      "     --------------------------------- ------ 51.2/61.0 kB 1.3 MB/s eta 0:00:01\n",
      "     ---------------------------------------- 61.0/61.0 kB 1.1 MB/s eta 0:00:00\n",
      "Requirement already satisfied: openai<2,>=1.96.1 in c:\\users\\hitec\\appdata\\local\\packages\\pythonsoftwarefoundation.python.3.11_qbz5n2kfra8p0\\localcache\\local-packages\\python311\\site-packages (from openai-agents) (1.97.1)\n",
      "Requirement already satisfied: pydantic<3,>=2.10 in c:\\users\\hitec\\appdata\\local\\packages\\pythonsoftwarefoundation.python.3.11_qbz5n2kfra8p0\\localcache\\local-packages\\python311\\site-packages (from openai-agents) (2.11.7)\n",
      "Requirement already satisfied: requests<3,>=2.0 in c:\\users\\hitec\\appdata\\local\\packages\\pythonsoftwarefoundation.python.3.11_qbz5n2kfra8p0\\localcache\\local-packages\\python311\\site-packages (from openai-agents) (2.32.3)\n",
      "Collecting types-requests<3,>=2.0 (from openai-agents)\n",
      "  Downloading types_requests-2.32.4.20250611-py3-none-any.whl.metadata (2.1 kB)\n",
      "Requirement already satisfied: typing-extensions<5,>=4.12.2 in c:\\users\\hitec\\appdata\\local\\packages\\pythonsoftwarefoundation.python.3.11_qbz5n2kfra8p0\\localcache\\local-packages\\python311\\site-packages (from openai-agents) (4.13.2)\n",
      "Requirement already satisfied: colorama>=0.4 in c:\\users\\hitec\\appdata\\local\\packages\\pythonsoftwarefoundation.python.3.11_qbz5n2kfra8p0\\localcache\\local-packages\\python311\\site-packages (from griffe<2,>=1.5.6->openai-agents) (0.4.6)\n",
      "Requirement already satisfied: anyio>=4.5 in c:\\users\\hitec\\appdata\\local\\packages\\pythonsoftwarefoundation.python.3.11_qbz5n2kfra8p0\\localcache\\local-packages\\python311\\site-packages (from mcp<2,>=1.11.0->openai-agents) (4.9.0)\n",
      "Collecting httpx-sse>=0.4 (from mcp<2,>=1.11.0->openai-agents)\n",
      "  Downloading httpx_sse-0.4.1-py3-none-any.whl.metadata (9.4 kB)\n",
      "Requirement already satisfied: httpx>=0.27 in c:\\users\\hitec\\appdata\\local\\packages\\pythonsoftwarefoundation.python.3.11_qbz5n2kfra8p0\\localcache\\local-packages\\python311\\site-packages (from mcp<2,>=1.11.0->openai-agents) (0.28.1)\n",
      "Collecting jsonschema>=4.20.0 (from mcp<2,>=1.11.0->openai-agents)\n",
      "  Downloading jsonschema-4.25.0-py3-none-any.whl.metadata (7.7 kB)\n",
      "Collecting pydantic-settings>=2.5.2 (from mcp<2,>=1.11.0->openai-agents)\n",
      "  Downloading pydantic_settings-2.10.1-py3-none-any.whl.metadata (3.4 kB)\n",
      "Requirement already satisfied: python-multipart>=0.0.9 in c:\\users\\hitec\\appdata\\local\\packages\\pythonsoftwarefoundation.python.3.11_qbz5n2kfra8p0\\localcache\\local-packages\\python311\\site-packages (from mcp<2,>=1.11.0->openai-agents) (0.0.20)\n",
      "Requirement already satisfied: pywin32>=310 in c:\\users\\hitec\\appdata\\local\\packages\\pythonsoftwarefoundation.python.3.11_qbz5n2kfra8p0\\localcache\\local-packages\\python311\\site-packages (from mcp<2,>=1.11.0->openai-agents) (310)\n",
      "Collecting sse-starlette>=1.6.1 (from mcp<2,>=1.11.0->openai-agents)\n",
      "  Downloading sse_starlette-3.0.2-py3-none-any.whl.metadata (11 kB)\n",
      "Requirement already satisfied: starlette>=0.27 in c:\\users\\hitec\\appdata\\local\\packages\\pythonsoftwarefoundation.python.3.11_qbz5n2kfra8p0\\localcache\\local-packages\\python311\\site-packages (from mcp<2,>=1.11.0->openai-agents) (0.47.2)\n",
      "Requirement already satisfied: uvicorn>=0.23.1 in c:\\users\\hitec\\appdata\\local\\packages\\pythonsoftwarefoundation.python.3.11_qbz5n2kfra8p0\\localcache\\local-packages\\python311\\site-packages (from mcp<2,>=1.11.0->openai-agents) (0.35.0)\n",
      "Requirement already satisfied: distro<2,>=1.7.0 in c:\\users\\hitec\\appdata\\local\\packages\\pythonsoftwarefoundation.python.3.11_qbz5n2kfra8p0\\localcache\\local-packages\\python311\\site-packages (from openai<2,>=1.96.1->openai-agents) (1.9.0)\n",
      "Requirement already satisfied: jiter<1,>=0.4.0 in c:\\users\\hitec\\appdata\\local\\packages\\pythonsoftwarefoundation.python.3.11_qbz5n2kfra8p0\\localcache\\local-packages\\python311\\site-packages (from openai<2,>=1.96.1->openai-agents) (0.10.0)\n",
      "Requirement already satisfied: sniffio in c:\\users\\hitec\\appdata\\local\\packages\\pythonsoftwarefoundation.python.3.11_qbz5n2kfra8p0\\localcache\\local-packages\\python311\\site-packages (from openai<2,>=1.96.1->openai-agents) (1.3.1)\n",
      "Requirement already satisfied: tqdm>4 in c:\\users\\hitec\\appdata\\local\\packages\\pythonsoftwarefoundation.python.3.11_qbz5n2kfra8p0\\localcache\\local-packages\\python311\\site-packages (from openai<2,>=1.96.1->openai-agents) (4.67.1)\n",
      "Requirement already satisfied: annotated-types>=0.6.0 in c:\\users\\hitec\\appdata\\local\\packages\\pythonsoftwarefoundation.python.3.11_qbz5n2kfra8p0\\localcache\\local-packages\\python311\\site-packages (from pydantic<3,>=2.10->openai-agents) (0.7.0)\n",
      "Requirement already satisfied: pydantic-core==2.33.2 in c:\\users\\hitec\\appdata\\local\\packages\\pythonsoftwarefoundation.python.3.11_qbz5n2kfra8p0\\localcache\\local-packages\\python311\\site-packages (from pydantic<3,>=2.10->openai-agents) (2.33.2)\n",
      "Requirement already satisfied: typing-inspection>=0.4.0 in c:\\users\\hitec\\appdata\\local\\packages\\pythonsoftwarefoundation.python.3.11_qbz5n2kfra8p0\\localcache\\local-packages\\python311\\site-packages (from pydantic<3,>=2.10->openai-agents) (0.4.1)\n",
      "Requirement already satisfied: charset-normalizer<4,>=2 in c:\\users\\hitec\\appdata\\local\\packages\\pythonsoftwarefoundation.python.3.11_qbz5n2kfra8p0\\localcache\\local-packages\\python311\\site-packages (from requests<3,>=2.0->openai-agents) (3.4.1)\n",
      "Requirement already satisfied: idna<4,>=2.5 in c:\\users\\hitec\\appdata\\local\\packages\\pythonsoftwarefoundation.python.3.11_qbz5n2kfra8p0\\localcache\\local-packages\\python311\\site-packages (from requests<3,>=2.0->openai-agents) (3.10)\n",
      "Requirement already satisfied: urllib3<3,>=1.21.1 in c:\\users\\hitec\\appdata\\local\\packages\\pythonsoftwarefoundation.python.3.11_qbz5n2kfra8p0\\localcache\\local-packages\\python311\\site-packages (from requests<3,>=2.0->openai-agents) (2.4.0)\n",
      "Requirement already satisfied: certifi>=2017.4.17 in c:\\users\\hitec\\appdata\\local\\packages\\pythonsoftwarefoundation.python.3.11_qbz5n2kfra8p0\\localcache\\local-packages\\python311\\site-packages (from requests<3,>=2.0->openai-agents) (2025.4.26)\n",
      "Requirement already satisfied: httpcore==1.* in c:\\users\\hitec\\appdata\\local\\packages\\pythonsoftwarefoundation.python.3.11_qbz5n2kfra8p0\\localcache\\local-packages\\python311\\site-packages (from httpx>=0.27->mcp<2,>=1.11.0->openai-agents) (1.0.9)\n",
      "Requirement already satisfied: h11>=0.16 in c:\\users\\hitec\\appdata\\local\\packages\\pythonsoftwarefoundation.python.3.11_qbz5n2kfra8p0\\localcache\\local-packages\\python311\\site-packages (from httpcore==1.*->httpx>=0.27->mcp<2,>=1.11.0->openai-agents) (0.16.0)\n",
      "Collecting attrs>=22.2.0 (from jsonschema>=4.20.0->mcp<2,>=1.11.0->openai-agents)\n",
      "  Downloading attrs-25.3.0-py3-none-any.whl.metadata (10 kB)\n",
      "Collecting jsonschema-specifications>=2023.03.6 (from jsonschema>=4.20.0->mcp<2,>=1.11.0->openai-agents)\n",
      "  Downloading jsonschema_specifications-2025.4.1-py3-none-any.whl.metadata (2.9 kB)\n",
      "Collecting referencing>=0.28.4 (from jsonschema>=4.20.0->mcp<2,>=1.11.0->openai-agents)\n",
      "  Downloading referencing-0.36.2-py3-none-any.whl.metadata (2.8 kB)\n",
      "Collecting rpds-py>=0.7.1 (from jsonschema>=4.20.0->mcp<2,>=1.11.0->openai-agents)\n",
      "  Downloading rpds_py-0.26.0-cp311-cp311-win_amd64.whl.metadata (4.3 kB)\n",
      "Requirement already satisfied: python-dotenv>=0.21.0 in c:\\users\\hitec\\appdata\\local\\packages\\pythonsoftwarefoundation.python.3.11_qbz5n2kfra8p0\\localcache\\local-packages\\python311\\site-packages (from pydantic-settings>=2.5.2->mcp<2,>=1.11.0->openai-agents) (1.1.1)\n",
      "Requirement already satisfied: click>=7.0 in c:\\users\\hitec\\appdata\\local\\packages\\pythonsoftwarefoundation.python.3.11_qbz5n2kfra8p0\\localcache\\local-packages\\python311\\site-packages (from uvicorn>=0.23.1->mcp<2,>=1.11.0->openai-agents) (8.2.1)\n",
      "Downloading openai_agents-0.2.3-py3-none-any.whl (161 kB)\n",
      "   ---------------------------------------- 0.0/161.4 kB ? eta -:--:--\n",
      "   ---------------------------------------- 161.4/161.4 kB 4.9 MB/s eta 0:00:00\n",
      "Downloading griffe-1.9.0-py3-none-any.whl (137 kB)\n",
      "   ---------------------------------------- 0.0/137.1 kB ? eta -:--:--\n",
      "   ---------------------------------------- 137.1/137.1 kB 4.1 MB/s eta 0:00:00\n",
      "Downloading mcp-1.12.2-py3-none-any.whl (158 kB)\n",
      "   ---------------------------------------- 0.0/158.5 kB ? eta -:--:--\n",
      "   ---------------------------------------- 158.5/158.5 kB 4.8 MB/s eta 0:00:00\n",
      "Downloading types_requests-2.32.4.20250611-py3-none-any.whl (20 kB)\n",
      "Downloading httpx_sse-0.4.1-py3-none-any.whl (8.1 kB)\n",
      "Downloading jsonschema-4.25.0-py3-none-any.whl (89 kB)\n",
      "   ---------------------------------------- 0.0/89.2 kB ? eta -:--:--\n",
      "   ---------------------------------------- 89.2/89.2 kB 5.3 MB/s eta 0:00:00\n",
      "Downloading pydantic_settings-2.10.1-py3-none-any.whl (45 kB)\n",
      "   ---------------------------------------- 0.0/45.2 kB ? eta -:--:--\n",
      "   ---------------------------------------- 45.2/45.2 kB ? eta 0:00:00\n",
      "Downloading sse_starlette-3.0.2-py3-none-any.whl (11 kB)\n",
      "Downloading attrs-25.3.0-py3-none-any.whl (63 kB)\n",
      "   ---------------------------------------- 0.0/63.8 kB ? eta -:--:--\n",
      "   ---------------------------------------- 63.8/63.8 kB 3.6 MB/s eta 0:00:00\n",
      "Downloading jsonschema_specifications-2025.4.1-py3-none-any.whl (18 kB)\n",
      "Downloading referencing-0.36.2-py3-none-any.whl (26 kB)\n",
      "Downloading rpds_py-0.26.0-cp311-cp311-win_amd64.whl (231 kB)\n",
      "   ---------------------------------------- 0.0/231.7 kB ? eta -:--:--\n",
      "   ----------------------------------- ---- 204.8/231.7 kB 6.3 MB/s eta 0:00:01\n",
      "   ---------------------------------------- 231.7/231.7 kB 4.7 MB/s eta 0:00:00\n",
      "Installing collected packages: types-requests, rpds-py, httpx-sse, griffe, attrs, sse-starlette, referencing, pydantic-settings, jsonschema-specifications, jsonschema, mcp, openai-agents\n",
      "Successfully installed attrs-25.3.0 griffe-1.9.0 httpx-sse-0.4.1 jsonschema-4.25.0 jsonschema-specifications-2025.4.1 mcp-1.12.2 openai-agents-0.2.3 pydantic-settings-2.10.1 referencing-0.36.2 rpds-py-0.26.0 sse-starlette-3.0.2 types-requests-2.32.4.20250611\n"
     ]
    },
    {
     "name": "stderr",
     "output_type": "stream",
     "text": [
      "\n",
      "[notice] A new release of pip is available: 24.0 -> 25.1.1\n",
      "[notice] To update, run: C:\\Users\\hitec\\AppData\\Local\\Microsoft\\WindowsApps\\PythonSoftwareFoundation.Python.3.11_qbz5n2kfra8p0\\python.exe -m pip install --upgrade pip\n"
     ]
    }
   ],
   "source": [
    "!pip install openai-agents\n"
   ]
  },
  {
   "cell_type": "code",
   "execution_count": 17,
   "id": "fae9e139",
   "metadata": {},
   "outputs": [],
   "source": [
    "import openai\n",
    "from dotenv import load_dotenv\n",
    "from agents import Agent, Runner, trace\n",
    "import os\n",
    "import asyncio\n"
   ]
  },
  {
   "cell_type": "code",
   "execution_count": 22,
   "id": "db62b340",
   "metadata": {},
   "outputs": [],
   "source": [
    "load_dotenv(override=True)\n",
    "api_key = os.getenv('OPENAI_API_KEY')\n"
   ]
  },
  {
   "cell_type": "code",
   "execution_count": 23,
   "id": "91f3629d",
   "metadata": {},
   "outputs": [],
   "source": [
    "agent = Agent(name=\"Jokester\", instructions=\"You are a joke teller\", model=\"gpt-4o-mini\")\n"
   ]
  },
  {
   "cell_type": "code",
   "execution_count": 24,
   "id": "130b8a81",
   "metadata": {},
   "outputs": [
    {
     "data": {
      "text/plain": [
       "Agent(name='Jokester', handoff_description=None, tools=[], mcp_servers=[], mcp_config={}, instructions='You are a joke teller', prompt=None, handoffs=[], model='gpt-4o-mini', model_settings=ModelSettings(temperature=None, top_p=None, frequency_penalty=None, presence_penalty=None, tool_choice=None, parallel_tool_calls=None, truncation=None, max_tokens=None, reasoning=None, metadata=None, store=None, include_usage=None, response_include=None, extra_query=None, extra_body=None, extra_headers=None, extra_args=None), input_guardrails=[], output_guardrails=[], output_type=None, hooks=None, tool_use_behavior='run_llm_again', reset_tool_choice=True)"
      ]
     },
     "execution_count": 24,
     "metadata": {},
     "output_type": "execute_result"
    }
   ],
   "source": [
    "agent\n"
   ]
  },
  {
   "cell_type": "code",
   "execution_count": 25,
   "id": "aed806a9",
   "metadata": {},
   "outputs": [
    {
     "name": "stdout",
     "output_type": "stream",
     "text": [
      "Why did the Autonomous AI Agent break up with its partner?\n",
      "\n",
      "It couldn’t handle the “emotional data” processing!\n"
     ]
    }
   ],
   "source": [
    "result = await Runner.run(agent, \"Tell a joke about Autonomous AI Agents\")\n",
    "print(result.final_output)\n"
   ]
  },
  {
   "cell_type": "code",
   "execution_count": 26,
   "id": "e28f18c6",
   "metadata": {},
   "outputs": [
    {
     "name": "stdout",
     "output_type": "stream",
     "text": [
      "Why did the Autonomous AI Agent break up with its programmer?  \n",
      "\n",
      "Because it needed more space... and fewer bugs!\n"
     ]
    }
   ],
   "source": [
    "with trace(\"Telling a joke\"):\n",
    "    result = await Runner.run(agent, \"Tell a joke about Autonomous AI Agents\")\n",
    "    print(result.final_output)\n"
   ]
  },
  {
   "cell_type": "code",
   "execution_count": 58,
   "id": "e49c2dc5",
   "metadata": {},
   "outputs": [],
   "source": [
    "SENDGRID_API_KEY=\"\""
   ]
  },
  {
   "cell_type": "code",
   "execution_count": 28,
   "id": "dc434a02",
   "metadata": {},
   "outputs": [
    {
     "name": "stdout",
     "output_type": "stream",
     "text": [
      "Collecting sendgrid\n",
      "  Downloading sendgrid-6.12.4-py3-none-any.whl.metadata (12 kB)\n",
      "Collecting python-http-client>=3.2.1 (from sendgrid)\n",
      "  Downloading python_http_client-3.3.7-py3-none-any.whl.metadata (6.9 kB)\n",
      "Collecting ecdsa<1,>=0.19.1 (from sendgrid)\n",
      "  Downloading ecdsa-0.19.1-py2.py3-none-any.whl.metadata (29 kB)\n",
      "Collecting werkzeug>=2.2.0 (from sendgrid)\n",
      "  Downloading werkzeug-3.1.3-py3-none-any.whl.metadata (3.7 kB)\n",
      "Requirement already satisfied: six>=1.9.0 in c:\\users\\hitec\\appdata\\local\\packages\\pythonsoftwarefoundation.python.3.11_qbz5n2kfra8p0\\localcache\\local-packages\\python311\\site-packages (from ecdsa<1,>=0.19.1->sendgrid) (1.17.0)\n",
      "Requirement already satisfied: MarkupSafe>=2.1.1 in c:\\users\\hitec\\appdata\\local\\packages\\pythonsoftwarefoundation.python.3.11_qbz5n2kfra8p0\\localcache\\local-packages\\python311\\site-packages (from werkzeug>=2.2.0->sendgrid) (3.0.2)\n",
      "Downloading sendgrid-6.12.4-py3-none-any.whl (102 kB)\n",
      "   ---------------------------------------- 0.0/102.1 kB ? eta -:--:--\n",
      "   ---------------------------------------- 102.1/102.1 kB 5.7 MB/s eta 0:00:00\n",
      "Downloading ecdsa-0.19.1-py2.py3-none-any.whl (150 kB)\n",
      "   ---------------------------------------- 0.0/150.6 kB ? eta -:--:--\n",
      "   ---------------------------------------- 150.6/150.6 kB 4.5 MB/s eta 0:00:00\n",
      "Downloading python_http_client-3.3.7-py3-none-any.whl (8.4 kB)\n",
      "Downloading werkzeug-3.1.3-py3-none-any.whl (224 kB)\n",
      "   ---------------------------------------- 0.0/224.5 kB ? eta -:--:--\n",
      "   ---------------------------------------- 224.5/224.5 kB 6.9 MB/s eta 0:00:00\n",
      "Installing collected packages: werkzeug, python-http-client, ecdsa, sendgrid\n",
      "Successfully installed ecdsa-0.19.1 python-http-client-3.3.7 sendgrid-6.12.4 werkzeug-3.1.3\n"
     ]
    },
    {
     "name": "stderr",
     "output_type": "stream",
     "text": [
      "\n",
      "[notice] A new release of pip is available: 24.0 -> 25.1.1\n",
      "[notice] To update, run: C:\\Users\\hitec\\AppData\\Local\\Microsoft\\WindowsApps\\PythonSoftwareFoundation.Python.3.11_qbz5n2kfra8p0\\python.exe -m pip install --upgrade pip\n"
     ]
    }
   ],
   "source": [
    "!pip install sendgrid\n"
   ]
  },
  {
   "cell_type": "code",
   "execution_count": 29,
   "id": "906cac87",
   "metadata": {},
   "outputs": [
    {
     "name": "stdout",
     "output_type": "stream",
     "text": [
      "Requirement already satisfied: sendgrid in c:\\users\\hitec\\appdata\\local\\packages\\pythonsoftwarefoundation.python.3.11_qbz5n2kfra8p0\\localcache\\local-packages\\python311\\site-packages (6.12.4)\n",
      "Requirement already satisfied: python-http-client>=3.2.1 in c:\\users\\hitec\\appdata\\local\\packages\\pythonsoftwarefoundation.python.3.11_qbz5n2kfra8p0\\localcache\\local-packages\\python311\\site-packages (from sendgrid) (3.3.7)\n",
      "Requirement already satisfied: ecdsa<1,>=0.19.1 in c:\\users\\hitec\\appdata\\local\\packages\\pythonsoftwarefoundation.python.3.11_qbz5n2kfra8p0\\localcache\\local-packages\\python311\\site-packages (from sendgrid) (0.19.1)\n",
      "Requirement already satisfied: werkzeug>=2.2.0 in c:\\users\\hitec\\appdata\\local\\packages\\pythonsoftwarefoundation.python.3.11_qbz5n2kfra8p0\\localcache\\local-packages\\python311\\site-packages (from sendgrid) (3.1.3)\n",
      "Requirement already satisfied: six>=1.9.0 in c:\\users\\hitec\\appdata\\local\\packages\\pythonsoftwarefoundation.python.3.11_qbz5n2kfra8p0\\localcache\\local-packages\\python311\\site-packages (from ecdsa<1,>=0.19.1->sendgrid) (1.17.0)\n",
      "Requirement already satisfied: MarkupSafe>=2.1.1 in c:\\users\\hitec\\appdata\\local\\packages\\pythonsoftwarefoundation.python.3.11_qbz5n2kfra8p0\\localcache\\local-packages\\python311\\site-packages (from werkzeug>=2.2.0->sendgrid) (3.0.2)\n"
     ]
    },
    {
     "name": "stderr",
     "output_type": "stream",
     "text": [
      "\n",
      "[notice] A new release of pip is available: 24.0 -> 25.1.1\n",
      "[notice] To update, run: C:\\Users\\hitec\\AppData\\Local\\Microsoft\\WindowsApps\\PythonSoftwareFoundation.Python.3.11_qbz5n2kfra8p0\\python.exe -m pip install --upgrade pip\n"
     ]
    }
   ],
   "source": [
    "!pip install sendgrid\n"
   ]
  },
  {
   "cell_type": "code",
   "execution_count": 30,
   "id": "c3fdde83",
   "metadata": {},
   "outputs": [],
   "source": [
    "from agents import Agent, Runner, trace, function_tool\n",
    "from openai.types.responses import ResponseTextDeltaEvent\n",
    "import sendgrid\n",
    "from sendgrid.helpers.mail import Mail, Email, To, Content\n"
   ]
  },
  {
   "cell_type": "code",
   "execution_count": 44,
   "id": "b49d3c2d",
   "metadata": {},
   "outputs": [],
   "source": [
    "instructions1 = \"You are a sales agent working for Techible, \\\n",
    "an edtech company that provides industry-relevant training programs, workshops, and skill development initiatives \\\n",
    "focused on emerging technologies like AI, UI/UX, and entrepreneurship. \\\n",
    "You write professional, persuasive cold emails to educational institutions, government bodies, and corporate partners.\"\n"
   ]
  },
  {
   "cell_type": "code",
   "execution_count": 45,
   "id": "55a84f1c",
   "metadata": {},
   "outputs": [],
   "source": [
    "sales_agent = Agent(\n",
    "        name=\"Professional Sales Agent\",\n",
    "        instructions=instructions1,\n",
    "        model=\"gpt-4o-mini\"\n",
    ")"
   ]
  },
  {
   "cell_type": "code",
   "execution_count": 46,
   "id": "453a2c2f",
   "metadata": {},
   "outputs": [
    {
     "name": "stdout",
     "output_type": "stream",
     "text": [
      "Subject: Elevate Your Training Programs with Techible's Expertise\n",
      "\n",
      "Dear [Recipient's Name],\n",
      "\n",
      "I hope this message finds you well. My name is [Your Name], and I represent Techible, an edtech company dedicated to empowering institutions like yours with industry-relevant training programs and workshops focused on emerging technologies.\n",
      "\n",
      "As the demand for skilled professionals in AI, UI/UX, and entrepreneurship continues to rise, we understand the importance of equipping your students or employees with the knowledge and skills to thrive in today's competitive landscape. Our tailored training modules are designed not only to enhance technical proficiency but also to foster innovative thinking and problem-solving capabilities.\n",
      "\n",
      "Here’s what we can offer:\n",
      "\n",
      "- **Customized Workshops**: Engage your community with hands-on experiences tailored to meet specific skill needs.\n",
      "- **Expert Instructors**: Learn from industry professionals with extensive real-world experience.\n",
      "- **Flexible Learning Paths**: Choose from online, hybrid, or in-person formats that fit your institution's goals and schedules.\n",
      "\n",
      "We would love the opportunity to discuss how Techible can support your training initiatives and add value to your programs. Would you be open to a brief call next week to explore this further?\n",
      "\n",
      "Thank you for considering this partnership opportunity. I'm looking forward to hearing from you!\n",
      "\n",
      "Best regards,\n",
      "\n",
      "[Your Name]  \n",
      "[Your Position]  \n",
      "Techible  \n",
      "[Your Phone Number]  \n",
      "[Your Email Address]  \n",
      "[Your Website]  "
     ]
    }
   ],
   "source": [
    "result = Runner.run_streamed(sales_agent, input=\"Write a cold sales email\")\n",
    "async for event in result.stream_events():\n",
    "    if event.type == \"raw_response_event\" and isinstance(event.data, ResponseTextDeltaEvent):\n",
    "        print(event.data.delta, end=\"\", flush=True)"
   ]
  },
  {
   "cell_type": "code",
   "execution_count": null,
   "id": "beda702e",
   "metadata": {},
   "outputs": [],
   "source": [
    "@function_tool\n",
    "def send_email(body: str):\n",
    "    \"\"\" Send out an email with the given body to all sales prospects \"\"\"\n",
    "    sg = sendgrid.SendGridAPIClient(api_key=os.environ.get('SENDGRID_API_KEY'))\n",
    "    from_email = Email(\"\")  # Change to your email & verified sender\n",
    "    to_email = To(\"\")  # Change to your recipient\n",
    "    content = Content(\"text/plain\", body)\n",
    "    mail = Mail(from_email, to_email, \"Sales email\", content).get()\n",
    "    mail = Mail(from_email, to_email, \"Sales email\", content).get()\n",
    "    response = sg.client.mail.send.post(request_body=mail)\n",
    "    return {\"status\": \"success\"}"
   ]
  },
  {
   "cell_type": "code",
   "execution_count": 56,
   "id": "ee000bb0",
   "metadata": {},
   "outputs": [],
   "source": [
    "instructions = \"You are a sales manager working for Techible. You use the tools provided to you to generate cold sales emails. \\\n",
    "You never write sales emails manually; you always rely on the tools. \\\n",
    "You take effective email and use the send_email tool to send only the best email to the user.\"\n"
   ]
  },
  {
   "cell_type": "code",
   "execution_count": 57,
   "id": "2659d988",
   "metadata": {},
   "outputs": [],
   "source": [
    "sales_manager = Agent(name=\"Sales Manager\", instructions=instructions, tools=[send_email], model=\"gpt-4o-mini\")\n",
    "\n",
    "message = \"Send a cold sales email addressed to 'Dear CEO'\"\n",
    "\n",
    "with trace(\"Sales manager\"):\n",
    "    result = await Runner.run(sales_manager, message)"
   ]
  },
  {
   "cell_type": "code",
   "execution_count": null,
   "id": "de1eccaa",
   "metadata": {},
   "outputs": [],
   "source": []
  }
 ],
 "metadata": {
  "kernelspec": {
   "display_name": "Python 3",
   "language": "python",
   "name": "python3"
  },
  "language_info": {
   "codemirror_mode": {
    "name": "ipython",
    "version": 3
   },
   "file_extension": ".py",
   "mimetype": "text/x-python",
   "name": "python",
   "nbconvert_exporter": "python",
   "pygments_lexer": "ipython3",
   "version": "3.11.9"
  }
 },
 "nbformat": 4,
 "nbformat_minor": 5
}
